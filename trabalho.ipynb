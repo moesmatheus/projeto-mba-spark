{
 "cells": [
  {
   "cell_type": "code",
   "execution_count": 1,
   "metadata": {},
   "outputs": [],
   "source": [
    "import pyspark\n",
    "import pandas as pd\n",
    "from matplotlib import pyplot as plt\n",
    "import seaborn as sns\n",
    "from pyspark.sql import SparkSession\n",
    "from pyspark.ml.feature import VectorAssembler\n",
    "from pyspark.ml.regression import LinearRegression\n",
    "from pyspark.ml.feature import OneHotEncoder, StringIndexer\n",
    "from pyspark.ml.regression import DecisionTreeRegressor\n",
    "from pyspark.ml.evaluation import RegressionEvaluator\n",
    "from pyspark.ml.regression import RandomForestRegressor\n",
    "from pyspark.ml.regression import GBTRegressor\n",
    "from pyspark.ml.feature import StandardScaler\n",
    "from pyspark.ml.feature import PCA as PCAml\n",
    "from pyspark.ml.clustering import KMeans\n",
    "from pyspark.ml.evaluation import ClusteringEvaluator"
   ]
  },
  {
   "cell_type": "markdown",
   "metadata": {},
   "source": [
    "# Transformação das colunas"
   ]
  },
  {
   "cell_type": "code",
   "execution_count": 2,
   "metadata": {},
   "outputs": [],
   "source": [
    "df = pd.read_csv('laptops.csv', sep = ',', header=0, encoding='ISO-8859-1', index_col=0)\n",
    "\n",
    "df['Ram'] = df['Ram'].apply(lambda a: a[0:-2])\n",
    "\n",
    "df['Weight'] = df['Weight'].apply(lambda a: a[0:-2])\n",
    "\n",
    "df.to_csv('laptops-transform.csv')"
   ]
  },
  {
   "cell_type": "code",
   "execution_count": 3,
   "metadata": {},
   "outputs": [
    {
     "data": {
      "text/html": [
       "<div>\n",
       "<style scoped>\n",
       "    .dataframe tbody tr th:only-of-type {\n",
       "        vertical-align: middle;\n",
       "    }\n",
       "\n",
       "    .dataframe tbody tr th {\n",
       "        vertical-align: top;\n",
       "    }\n",
       "\n",
       "    .dataframe thead th {\n",
       "        text-align: right;\n",
       "    }\n",
       "</style>\n",
       "<table border=\"1\" class=\"dataframe\">\n",
       "  <thead>\n",
       "    <tr style=\"text-align: right;\">\n",
       "      <th></th>\n",
       "      <th>Company</th>\n",
       "      <th>Product</th>\n",
       "      <th>TypeName</th>\n",
       "      <th>Inches</th>\n",
       "      <th>ScreenResolution</th>\n",
       "      <th>Cpu</th>\n",
       "      <th>Ram</th>\n",
       "      <th>Memory</th>\n",
       "      <th>Gpu</th>\n",
       "      <th>OpSys</th>\n",
       "      <th>Weight</th>\n",
       "      <th>Price_euros</th>\n",
       "    </tr>\n",
       "  </thead>\n",
       "  <tbody>\n",
       "    <tr>\n",
       "      <th>1</th>\n",
       "      <td>Apple</td>\n",
       "      <td>MacBook Pro</td>\n",
       "      <td>Ultrabook</td>\n",
       "      <td>13.3</td>\n",
       "      <td>IPS Panel Retina Display 2560x1600</td>\n",
       "      <td>Intel Core i5 2.3GHz</td>\n",
       "      <td>8</td>\n",
       "      <td>128GB SSD</td>\n",
       "      <td>Intel Iris Plus Graphics 640</td>\n",
       "      <td>macOS</td>\n",
       "      <td>1.37</td>\n",
       "      <td>1339.69</td>\n",
       "    </tr>\n",
       "    <tr>\n",
       "      <th>2</th>\n",
       "      <td>Apple</td>\n",
       "      <td>Macbook Air</td>\n",
       "      <td>Ultrabook</td>\n",
       "      <td>13.3</td>\n",
       "      <td>1440x900</td>\n",
       "      <td>Intel Core i5 1.8GHz</td>\n",
       "      <td>8</td>\n",
       "      <td>128GB Flash Storage</td>\n",
       "      <td>Intel HD Graphics 6000</td>\n",
       "      <td>macOS</td>\n",
       "      <td>1.34</td>\n",
       "      <td>898.94</td>\n",
       "    </tr>\n",
       "    <tr>\n",
       "      <th>3</th>\n",
       "      <td>HP</td>\n",
       "      <td>250 G6</td>\n",
       "      <td>Notebook</td>\n",
       "      <td>15.6</td>\n",
       "      <td>Full HD 1920x1080</td>\n",
       "      <td>Intel Core i5 7200U 2.5GHz</td>\n",
       "      <td>8</td>\n",
       "      <td>256GB SSD</td>\n",
       "      <td>Intel HD Graphics 620</td>\n",
       "      <td>No OS</td>\n",
       "      <td>1.86</td>\n",
       "      <td>575.00</td>\n",
       "    </tr>\n",
       "    <tr>\n",
       "      <th>4</th>\n",
       "      <td>Apple</td>\n",
       "      <td>MacBook Pro</td>\n",
       "      <td>Ultrabook</td>\n",
       "      <td>15.4</td>\n",
       "      <td>IPS Panel Retina Display 2880x1800</td>\n",
       "      <td>Intel Core i7 2.7GHz</td>\n",
       "      <td>16</td>\n",
       "      <td>512GB SSD</td>\n",
       "      <td>AMD Radeon Pro 455</td>\n",
       "      <td>macOS</td>\n",
       "      <td>1.83</td>\n",
       "      <td>2537.45</td>\n",
       "    </tr>\n",
       "    <tr>\n",
       "      <th>5</th>\n",
       "      <td>Apple</td>\n",
       "      <td>MacBook Pro</td>\n",
       "      <td>Ultrabook</td>\n",
       "      <td>13.3</td>\n",
       "      <td>IPS Panel Retina Display 2560x1600</td>\n",
       "      <td>Intel Core i5 3.1GHz</td>\n",
       "      <td>8</td>\n",
       "      <td>256GB SSD</td>\n",
       "      <td>Intel Iris Plus Graphics 650</td>\n",
       "      <td>macOS</td>\n",
       "      <td>1.37</td>\n",
       "      <td>1803.60</td>\n",
       "    </tr>\n",
       "  </tbody>\n",
       "</table>\n",
       "</div>"
      ],
      "text/plain": [
       "  Company      Product   TypeName  Inches                    ScreenResolution  \\\n",
       "1   Apple  MacBook Pro  Ultrabook    13.3  IPS Panel Retina Display 2560x1600   \n",
       "2   Apple  Macbook Air  Ultrabook    13.3                            1440x900   \n",
       "3      HP       250 G6   Notebook    15.6                   Full HD 1920x1080   \n",
       "4   Apple  MacBook Pro  Ultrabook    15.4  IPS Panel Retina Display 2880x1800   \n",
       "5   Apple  MacBook Pro  Ultrabook    13.3  IPS Panel Retina Display 2560x1600   \n",
       "\n",
       "                          Cpu Ram               Memory  \\\n",
       "1        Intel Core i5 2.3GHz   8            128GB SSD   \n",
       "2        Intel Core i5 1.8GHz   8  128GB Flash Storage   \n",
       "3  Intel Core i5 7200U 2.5GHz   8            256GB SSD   \n",
       "4        Intel Core i7 2.7GHz  16            512GB SSD   \n",
       "5        Intel Core i5 3.1GHz   8            256GB SSD   \n",
       "\n",
       "                            Gpu  OpSys Weight  Price_euros  \n",
       "1  Intel Iris Plus Graphics 640  macOS   1.37      1339.69  \n",
       "2        Intel HD Graphics 6000  macOS   1.34       898.94  \n",
       "3         Intel HD Graphics 620  No OS   1.86       575.00  \n",
       "4            AMD Radeon Pro 455  macOS   1.83      2537.45  \n",
       "5  Intel Iris Plus Graphics 650  macOS   1.37      1803.60  "
      ]
     },
     "execution_count": 3,
     "metadata": {},
     "output_type": "execute_result"
    }
   ],
   "source": [
    "df.head()"
   ]
  },
  {
   "cell_type": "code",
   "execution_count": 4,
   "metadata": {},
   "outputs": [
    {
     "data": {
      "text/plain": [
       "Intel HD Graphics 620      281\n",
       "Intel HD Graphics 520      185\n",
       "Intel UHD Graphics 620      68\n",
       "Nvidia GeForce GTX 1050     66\n",
       "Nvidia GeForce GTX 1060     48\n",
       "                          ... \n",
       "Nvidia GTX 980 SLI           1\n",
       "Intel HD Graphics 530        1\n",
       "AMD Radeon R7                1\n",
       "AMD R4 Graphics              1\n",
       "AMD Radeon Pro 560           1\n",
       "Name: Gpu, Length: 110, dtype: int64"
      ]
     },
     "execution_count": 4,
     "metadata": {},
     "output_type": "execute_result"
    }
   ],
   "source": [
    "df['Gpu'].value_counts()"
   ]
  },
  {
   "cell_type": "code",
   "execution_count": 5,
   "metadata": {},
   "outputs": [
    {
     "data": {
      "text/plain": [
       "Notebook              727\n",
       "Gaming                205\n",
       "Ultrabook             196\n",
       "2 in 1 Convertible    121\n",
       "Workstation            29\n",
       "Netbook                25\n",
       "Name: TypeName, dtype: int64"
      ]
     },
     "execution_count": 5,
     "metadata": {},
     "output_type": "execute_result"
    }
   ],
   "source": [
    "df['TypeName'].value_counts()"
   ]
  },
  {
   "cell_type": "code",
   "execution_count": 6,
   "metadata": {},
   "outputs": [
    {
     "data": {
      "text/plain": [
       "Windows 10      1072\n",
       "No OS             66\n",
       "Linux             62\n",
       "Windows 7         45\n",
       "Chrome OS         27\n",
       "macOS             13\n",
       "Mac OS X           8\n",
       "Windows 10 S       8\n",
       "Android            2\n",
       "Name: OpSys, dtype: int64"
      ]
     },
     "execution_count": 6,
     "metadata": {},
     "output_type": "execute_result"
    }
   ],
   "source": [
    "df['OpSys'].value_counts()"
   ]
  },
  {
   "cell_type": "markdown",
   "metadata": {},
   "source": [
    "# SPARK"
   ]
  },
  {
   "cell_type": "markdown",
   "metadata": {},
   "source": [
    "## Carregar dados"
   ]
  },
  {
   "cell_type": "code",
   "execution_count": 7,
   "metadata": {},
   "outputs": [],
   "source": [
    "spark = SparkSession.builder.getOrCreate()"
   ]
  },
  {
   "cell_type": "code",
   "execution_count": 8,
   "metadata": {},
   "outputs": [],
   "source": [
    "data = spark.read.csv('laptops-transform.csv', header=True, inferSchema=True).cache()"
   ]
  },
  {
   "cell_type": "code",
   "execution_count": 9,
   "metadata": {},
   "outputs": [
    {
     "name": "stdout",
     "output_type": "stream",
     "text": [
      "Total Records = 1303\n"
     ]
    }
   ],
   "source": [
    "print('Total Records = {}'.format(data.count()))"
   ]
  },
  {
   "cell_type": "code",
   "execution_count": 10,
   "metadata": {},
   "outputs": [
    {
     "name": "stdout",
     "output_type": "stream",
     "text": [
      "+---+-------+-----------------+---------+------+--------------------+--------------------+---+-------------------+--------------------+----------+------+-----------+\n",
      "|_c0|Company|          Product| TypeName|Inches|    ScreenResolution|                 Cpu|Ram|             Memory|                 Gpu|     OpSys|Weight|Price_euros|\n",
      "+---+-------+-----------------+---------+------+--------------------+--------------------+---+-------------------+--------------------+----------+------+-----------+\n",
      "|  1|  Apple|      MacBook Pro|Ultrabook|  13.3|IPS Panel Retina ...|Intel Core i5 2.3GHz|  8|          128GB SSD|Intel Iris Plus G...|     macOS|  1.37|    1339.69|\n",
      "|  2|  Apple|      Macbook Air|Ultrabook|  13.3|            1440x900|Intel Core i5 1.8GHz|  8|128GB Flash Storage|Intel HD Graphics...|     macOS|  1.34|     898.94|\n",
      "|  3|     HP|           250 G6| Notebook|  15.6|   Full HD 1920x1080|Intel Core i5 720...|  8|          256GB SSD|Intel HD Graphics...|     No OS|  1.86|      575.0|\n",
      "|  4|  Apple|      MacBook Pro|Ultrabook|  15.4|IPS Panel Retina ...|Intel Core i7 2.7GHz| 16|          512GB SSD|  AMD Radeon Pro 455|     macOS|  1.83|    2537.45|\n",
      "|  5|  Apple|      MacBook Pro|Ultrabook|  13.3|IPS Panel Retina ...|Intel Core i5 3.1GHz|  8|          256GB SSD|Intel Iris Plus G...|     macOS|  1.37|     1803.6|\n",
      "|  6|   Acer|         Aspire 3| Notebook|  15.6|            1366x768|AMD A9-Series 942...|  4|          500GB HDD|       AMD Radeon R5|Windows 10|   2.1|      400.0|\n",
      "|  7|  Apple|      MacBook Pro|Ultrabook|  15.4|IPS Panel Retina ...|Intel Core i7 2.2GHz| 16|256GB Flash Storage|Intel Iris Pro Gr...|  Mac OS X|  2.04|    2139.97|\n",
      "|  8|  Apple|      Macbook Air|Ultrabook|  13.3|            1440x900|Intel Core i5 1.8GHz|  8|256GB Flash Storage|Intel HD Graphics...|     macOS|  1.34|     1158.7|\n",
      "|  9|   Asus|  ZenBook UX430UN|Ultrabook|  14.0|   Full HD 1920x1080|Intel Core i7 855...| 16|          512GB SSD|Nvidia GeForce MX150|Windows 10|   1.3|     1495.0|\n",
      "| 10|   Acer|          Swift 3|Ultrabook|  14.0|IPS Panel Full HD...|Intel Core i5 825...|  8|          256GB SSD|Intel UHD Graphic...|Windows 10|   1.6|      770.0|\n",
      "| 11|     HP|           250 G6| Notebook|  15.6|            1366x768|Intel Core i5 720...|  4|          500GB HDD|Intel HD Graphics...|     No OS|  1.86|      393.9|\n",
      "| 12|     HP|           250 G6| Notebook|  15.6|   Full HD 1920x1080|Intel Core i3 600...|  4|          500GB HDD|Intel HD Graphics...|     No OS|  1.86|     344.99|\n",
      "| 13|  Apple|      MacBook Pro|Ultrabook|  15.4|IPS Panel Retina ...|Intel Core i7 2.8GHz| 16|          256GB SSD|  AMD Radeon Pro 555|     macOS|  1.83|    2439.97|\n",
      "| 14|   Dell|    Inspiron 3567| Notebook|  15.6|   Full HD 1920x1080|Intel Core i3 600...|  4|          256GB SSD|  AMD Radeon R5 M430|Windows 10|   2.2|      498.9|\n",
      "| 15|  Apple|     MacBook 12\"\"|Ultrabook|  12.0|IPS Panel Retina ...|Intel Core M m3 1...|  8|          256GB SSD|Intel HD Graphics...|     macOS|  0.92|     1262.4|\n",
      "| 16|  Apple|      MacBook Pro|Ultrabook|  13.3|IPS Panel Retina ...|Intel Core i5 2.3GHz|  8|          256GB SSD|Intel Iris Plus G...|     macOS|  1.37|    1518.55|\n",
      "| 17|   Dell|    Inspiron 3567| Notebook|  15.6|   Full HD 1920x1080|Intel Core i7 750...|  8|          256GB SSD|  AMD Radeon R5 M430|Windows 10|   2.2|      745.0|\n",
      "| 18|  Apple|      MacBook Pro|Ultrabook|  15.4|IPS Panel Retina ...|Intel Core i7 2.9GHz| 16|          512GB SSD|  AMD Radeon Pro 560|     macOS|  1.83|     2858.0|\n",
      "| 19| Lenovo|IdeaPad 320-15IKB| Notebook|  15.6|   Full HD 1920x1080|Intel Core i3 710...|  8|            1TB HDD|Nvidia GeForce 940MX|     No OS|   2.2|      499.0|\n",
      "| 20|   Dell|           XPS 13|Ultrabook|  13.3|IPS Panel Full HD...|Intel Core i5 825...|  8|          128GB SSD|Intel UHD Graphic...|Windows 10|  1.22|      979.0|\n",
      "+---+-------+-----------------+---------+------+--------------------+--------------------+---+-------------------+--------------------+----------+------+-----------+\n",
      "only showing top 20 rows\n",
      "\n"
     ]
    }
   ],
   "source": [
    "data.show()"
   ]
  },
  {
   "cell_type": "markdown",
   "metadata": {},
   "source": [
    "# SPARK SQL"
   ]
  },
  {
   "cell_type": "code",
   "execution_count": 11,
   "metadata": {},
   "outputs": [],
   "source": [
    "data.registerTempTable(\"laptops\")"
   ]
  },
  {
   "cell_type": "code",
   "execution_count": 12,
   "metadata": {},
   "outputs": [
    {
     "name": "stdout",
     "output_type": "stream",
     "text": [
      "+---------+---------+------------------+------------+------------+------------------+------------------+------------------+\n",
      "|  Company|# Modelos|       Preco Médio|Preco Mínimo|Preco Máximo|        Tela média|       avg(Weight)|          avg(Ram)|\n",
      "+---------+---------+------------------+------------+------------+------------------+------------------+------------------+\n",
      "|    Razer|        7|3346.1428571428573|      1029.0|      6099.0|14.514285714285714|2.1957142857142857|19.428571428571427|\n",
      "|  Fujitsu|        3|             729.0|       649.0|       799.0|              15.6|2.2333333333333334| 6.666666666666667|\n",
      "|   Huawei|        2|            1424.0|      1349.0|      1499.0|              13.0|              1.05|               8.0|\n",
      "|   Xiaomi|        4|         1133.4625|       935.0|     1399.95|             14.45|              1.62|              10.0|\n",
      "|       HP|      274| 1067.774854014598|       209.0|      4389.0|14.943065693430636|1.9113138686131397| 6.912408759124087|\n",
      "|     Dell|      297|1186.0689898989892|       274.9|      3659.4| 15.13602693602694|2.1470404040404047| 9.151515151515152|\n",
      "|     Vero|        4|           217.425|       196.0|       260.0|            13.825|              1.33|               3.5|\n",
      "|     Acer|      103| 626.7758252427185|       174.0|      2599.0| 15.06310679611649| 2.166893203883495| 5.980582524271845|\n",
      "|     Asus|      158|1104.1693670886075|       191.9|      3975.0| 15.44999999999997| 2.220196202531644| 9.594936708860759|\n",
      "|   Lenovo|      297|1086.3844444444444|       229.0|      4899.0|14.872727272727262| 2.002289562289562|  8.04040404040404|\n",
      "| Mediacom|        7|             295.0|       239.0|       389.0|13.457142857142857| 1.337142857142857|3.7142857142857144|\n",
      "|  Samsung|        9|1413.4444444444443|       269.0|      1849.0|13.822222222222221|1.3155555555555556|10.666666666666666|\n",
      "|   Google|        3|1677.6666666666667|      1275.0|      2199.0|12.300000000000002|               1.1|10.666666666666666|\n",
      "|       LG|        3|            2099.0|      1899.0|      2299.0|15.066666666666668|              1.05|10.666666666666666|\n",
      "|    Chuwi|        3| 314.2966666666667|      244.99|       449.0|              14.5|1.7266666666666666| 4.666666666666667|\n",
      "|Microsoft|        6|1612.3083333333334|       989.0|      2589.0|              13.5|1.2513333333333334|               8.0|\n",
      "|    Apple|       21|1564.1985714285713|      898.94|      2858.0| 13.24761904761905| 1.320476190476191| 9.333333333333334|\n",
      "|      MSI|       54|1728.9081481481485|       839.0|      2799.0|16.442592592592593|2.6605555555555562|13.037037037037036|\n",
      "|  Toshiba|       48|         1267.8125|       447.0|      2799.0|14.354166666666666|1.6402083333333335| 8.666666666666666|\n",
      "+---------+---------+------------------+------------+------------+------------------+------------------+------------------+\n",
      "\n"
     ]
    }
   ],
   "source": [
    "spark.sql('''\n",
    "    SELECT Company, count(*) as `# Modelos`, avg(Price_euros) as `Preco Médio`,\n",
    "    min(Price_euros) as `Preco Mínimo`, max(Price_euros) as `Preco Máximo`,\n",
    "    avg(Inches) as `Tela média`, avg(`Weight`), avg(Ram)\n",
    "    from laptops\n",
    "    GROUP BY Company\n",
    "    ''').show()"
   ]
  },
  {
   "cell_type": "markdown",
   "metadata": {},
   "source": [
    "# SPARK MLIB"
   ]
  },
  {
   "cell_type": "markdown",
   "metadata": {},
   "source": [
    "## Transformar Dummies"
   ]
  },
  {
   "cell_type": "code",
   "execution_count": 13,
   "metadata": {},
   "outputs": [],
   "source": [
    "stringIndexer = StringIndexer(inputCol=\"TypeName\", outputCol=\"categoryIndex\")"
   ]
  },
  {
   "cell_type": "code",
   "execution_count": 14,
   "metadata": {},
   "outputs": [],
   "source": [
    "model = stringIndexer.fit(data)\n",
    "indexed = model.transform(data)\n",
    "encoder = OneHotEncoder(inputCol=\"categoryIndex\", outputCol=\"categoryVec\")\n",
    "encoded = encoder.transform(indexed)"
   ]
  },
  {
   "cell_type": "markdown",
   "metadata": {},
   "source": [
    "## Transformar em Vetor"
   ]
  },
  {
   "cell_type": "code",
   "execution_count": 15,
   "metadata": {},
   "outputs": [],
   "source": [
    "assembler = VectorAssembler(inputCols=['Inches', 'Ram', 'Weight', 'categoryVec'],outputCol=\"features\")\n",
    "assembled = assembler.transform(encoded)"
   ]
  },
  {
   "cell_type": "markdown",
   "metadata": {},
   "source": [
    "## Separar Teste Treinamento"
   ]
  },
  {
   "cell_type": "code",
   "execution_count": 16,
   "metadata": {},
   "outputs": [],
   "source": [
    "train, test = assembled.randomSplit([0.7, 0.3])"
   ]
  },
  {
   "cell_type": "markdown",
   "metadata": {},
   "source": [
    "## Regressão Linear"
   ]
  },
  {
   "cell_type": "markdown",
   "metadata": {},
   "source": [
    "### Criar Modelo"
   ]
  },
  {
   "cell_type": "code",
   "execution_count": 17,
   "metadata": {},
   "outputs": [],
   "source": [
    "algo = LinearRegression(featuresCol=\"features\", labelCol=\"Price_euros\")"
   ]
  },
  {
   "cell_type": "markdown",
   "metadata": {},
   "source": [
    "### Treinar modelo"
   ]
  },
  {
   "cell_type": "code",
   "execution_count": 18,
   "metadata": {},
   "outputs": [],
   "source": [
    "model = algo.fit(train)\n",
    "\n",
    "evaluation_summary = model.evaluate(test)"
   ]
  },
  {
   "cell_type": "markdown",
   "metadata": {},
   "source": [
    "### MAE"
   ]
  },
  {
   "cell_type": "code",
   "execution_count": 19,
   "metadata": {},
   "outputs": [
    {
     "data": {
      "text/plain": [
       "288.06002905893513"
      ]
     },
     "execution_count": 19,
     "metadata": {},
     "output_type": "execute_result"
    }
   ],
   "source": [
    "evaluation_summary.meanAbsoluteError"
   ]
  },
  {
   "cell_type": "markdown",
   "metadata": {},
   "source": [
    "### RMSE"
   ]
  },
  {
   "cell_type": "code",
   "execution_count": 20,
   "metadata": {},
   "outputs": [
    {
     "data": {
      "text/plain": [
       "391.63146291548696"
      ]
     },
     "execution_count": 20,
     "metadata": {},
     "output_type": "execute_result"
    }
   ],
   "source": [
    "evaluation_summary.rootMeanSquaredError"
   ]
  },
  {
   "cell_type": "markdown",
   "metadata": {},
   "source": [
    "### R2"
   ]
  },
  {
   "cell_type": "code",
   "execution_count": 21,
   "metadata": {},
   "outputs": [
    {
     "data": {
      "text/plain": [
       "0.6417794897542859"
      ]
     },
     "execution_count": 21,
     "metadata": {},
     "output_type": "execute_result"
    }
   ],
   "source": [
    "evaluation_summary.r2"
   ]
  },
  {
   "cell_type": "code",
   "execution_count": 22,
   "metadata": {},
   "outputs": [
    {
     "name": "stdout",
     "output_type": "stream",
     "text": [
      "numIterations: 1\n",
      "objectiveHistory: [0.0]\n",
      "+-------------------+\n",
      "|          residuals|\n",
      "+-------------------+\n",
      "|-122.16871007297004|\n",
      "| -560.2083861152821|\n",
      "|-300.63153938010703|\n",
      "|  444.9407750833443|\n",
      "|  341.7412899270298|\n",
      "| 28.488507379529437|\n",
      "| -300.4483861152821|\n",
      "| -602.7075215718451|\n",
      "| -686.0975171280725|\n",
      "|  347.4607750833443|\n",
      "|-208.09305966954116|\n",
      "|  56.69128992702986|\n",
      "| -161.3485442339031|\n",
      "| -407.3485442339031|\n",
      "|-469.30709028453066|\n",
      "| -84.69136973779288|\n",
      "|-196.09181809332767|\n",
      "|-162.38633541587035|\n",
      "|  27.00333560091974|\n",
      "| -298.9952413274692|\n",
      "+-------------------+\n",
      "only showing top 20 rows\n",
      "\n",
      "RMSE: 412.618287\n",
      "r2: 0.669006\n"
     ]
    }
   ],
   "source": [
    "trainingSummary = model.summary\n",
    "print(\"numIterations: %d\" % trainingSummary.totalIterations)\n",
    "print(\"objectiveHistory: %s\" % str(trainingSummary.objectiveHistory))\n",
    "trainingSummary.residuals.show()\n",
    "print(\"RMSE: %f\" % trainingSummary.rootMeanSquaredError)\n",
    "print(\"r2: %f\" % trainingSummary.r2)"
   ]
  },
  {
   "cell_type": "markdown",
   "metadata": {},
   "source": [
    "### Previsões"
   ]
  },
  {
   "cell_type": "code",
   "execution_count": 23,
   "metadata": {},
   "outputs": [],
   "source": [
    "predictions = model.transform(test)\n",
    "\n",
    "# Resultados para Dataframe\n",
    "p = predictions.select(['Price_euros','prediction']).toPandas()"
   ]
  },
  {
   "cell_type": "markdown",
   "metadata": {},
   "source": [
    "### Plotar resultados"
   ]
  },
  {
   "cell_type": "code",
   "execution_count": 24,
   "metadata": {},
   "outputs": [
    {
     "data": {
      "image/png": "[encoded data removed]",
      "text/plain": [
       "<Figure size 432x288 with 1 Axes>"
      ]
     },
     "metadata": {
      "needs_background": "light"
     },
     "output_type": "display_data"
    }
   ],
   "source": [
    "sns.scatterplot(x=p['prediction'], y=p['Price_euros'])\n",
    "plt.show()"
   ]
  },
  {
   "cell_type": "code",
   "execution_count": 25,
   "metadata": {},
   "outputs": [
    {
     "name": "stdout",
     "output_type": "stream",
     "text": [
      "Coefficients: [-37.914776124530434,83.58915550258142,90.34413192292966,169.6615050327693,431.3015393153151,712.9533152814479,483.7022484474279,1371.5570393379717]\n"
     ]
    }
   ],
   "source": [
    "print(\"Coefficients: %s\" % str(model.coefficients))"
   ]
  },
  {
   "cell_type": "markdown",
   "metadata": {},
   "source": [
    "## Decision Trees"
   ]
  },
  {
   "cell_type": "code",
   "execution_count": 26,
   "metadata": {},
   "outputs": [],
   "source": [
    "# Modificar nome da Price_euros para Labels\n",
    "assembled_labels = assembled.withColumnRenamed(\"Price_euros\",\"label\")\n",
    "\n",
    "# Separar teste e treinamento\n",
    "(trainingData, testData) = assembled_labels.randomSplit([0.7, 0.3])"
   ]
  },
  {
   "cell_type": "code",
   "execution_count": 27,
   "metadata": {},
   "outputs": [
    {
     "name": "stdout",
     "output_type": "stream",
     "text": [
      "Root Mean Squared Error (RMSE) on test data = 347.412\n"
     ]
    },
    {
     "data": {
      "image/png": "[encoded data removed]",
      "text/plain": [
       "<Figure size 432x288 with 1 Axes>"
      ]
     },
     "metadata": {
      "needs_background": "light"
     },
     "output_type": "display_data"
    }
   ],
   "source": [
    "# Criar modelo\n",
    "dt = DecisionTreeRegressor(featuresCol=\"features\")\n",
    "\n",
    "# Treinar modelo\n",
    "model = dt.fit(assembled_labels)\n",
    "\n",
    "# Fazer previsores\n",
    "predictions = model.transform(testData)\n",
    "\n",
    "evaluator = RegressionEvaluator(\n",
    "    labelCol=\"label\", predictionCol=\"prediction\", metricName=\"rmse\")\n",
    "\n",
    "rmse = evaluator.evaluate(predictions)\n",
    "\n",
    "print(\"Root Mean Squared Error (RMSE) on test data = %g\" % rmse)\n",
    "\n",
    "# Separar previsões\n",
    "p = predictions.select(['label', 'prediction']).toPandas()\n",
    "\n",
    "# Plotar previsões\n",
    "sns.scatterplot(x=p['prediction'], y=p['label'])\n",
    "plt.show()"
   ]
  },
  {
   "cell_type": "markdown",
   "metadata": {},
   "source": [
    "## Random Forest"
   ]
  },
  {
   "cell_type": "code",
   "execution_count": 28,
   "metadata": {},
   "outputs": [
    {
     "name": "stdout",
     "output_type": "stream",
     "text": [
      "Root Mean Squared Error (RMSE) on test data = 366.173\n"
     ]
    },
    {
     "data": {
      "image/png": "[encoded data removed]",
      "text/plain": [
       "<Figure size 432x288 with 1 Axes>"
      ]
     },
     "metadata": {
      "needs_background": "light"
     },
     "output_type": "display_data"
    }
   ],
   "source": [
    "# Criar modelo\n",
    "model_base = RandomForestRegressor(featuresCol=\"features\")\n",
    "\n",
    "# Treinar modelo\n",
    "model = model_base.fit(assembled_labels)\n",
    "\n",
    "# Fazer previsores\n",
    "predictions = model.transform(testData)\n",
    "\n",
    "evaluator = RegressionEvaluator(\n",
    "    labelCol=\"label\", predictionCol=\"prediction\", metricName=\"rmse\")\n",
    "\n",
    "rmse = evaluator.evaluate(predictions)\n",
    "\n",
    "print(\"Root Mean Squared Error (RMSE) on test data = %g\" % rmse)\n",
    "\n",
    "# Separar previsões\n",
    "p = predictions.select(['label', 'prediction']).toPandas()\n",
    "\n",
    "# Plotar previsões\n",
    "sns.scatterplot(x=p['prediction'], y=p['label'])\n",
    "plt.show()"
   ]
  },
  {
   "cell_type": "markdown",
   "metadata": {},
   "source": [
    "## Gradient Boosting"
   ]
  },
  {
   "cell_type": "code",
   "execution_count": 29,
   "metadata": {},
   "outputs": [
    {
     "name": "stdout",
     "output_type": "stream",
     "text": [
      "Root Mean Squared Error (RMSE) on test data = 285.214\n"
     ]
    },
    {
     "data": {
      "image/png": "[encoded data removed]",
      "text/plain": [
       "<Figure size 432x288 with 1 Axes>"
      ]
     },
     "metadata": {
      "needs_background": "light"
     },
     "output_type": "display_data"
    }
   ],
   "source": [
    "# Criar modelo\n",
    "model_base = GBTRegressor(featuresCol=\"features\")\n",
    "\n",
    "# Treinar modelo\n",
    "model = model_base.fit(assembled_labels)\n",
    "\n",
    "# Fazer previsores\n",
    "predictions = model.transform(testData)\n",
    "\n",
    "evaluator = RegressionEvaluator(\n",
    "    labelCol=\"label\", predictionCol=\"prediction\", metricName=\"rmse\")\n",
    "\n",
    "rmse = evaluator.evaluate(predictions)\n",
    "\n",
    "print(\"Root Mean Squared Error (RMSE) on test data = %g\" % rmse)\n",
    "\n",
    "# Separar previsões\n",
    "p = predictions.select(['label', 'prediction']).toPandas()\n",
    "\n",
    "# Plotar previsões\n",
    "sns.scatterplot(x=p['prediction'], y=p['label'])\n",
    "plt.show()"
   ]
  },
  {
   "cell_type": "markdown",
   "metadata": {},
   "source": [
    "### Scaling"
   ]
  },
  {
   "cell_type": "code",
   "execution_count": 30,
   "metadata": {},
   "outputs": [],
   "source": [
    "# Selecionar variaveis para features\n",
    "assembler = VectorAssembler(inputCols=['Inches', 'Ram', 'Weight', 'Price_euros'],outputCol=\"features\")\n",
    "all_num_var = assembler.transform(encoded)\n",
    "\n",
    "scaler = StandardScaler(inputCol=\"features\", outputCol=\"scaledFeatures\", withStd=True, withMean=True)\n",
    "\n",
    "scalerModel = scaler.fit(all_num_var)\n",
    "\n",
    "# Normalize each feature to have unit standard deviation.\n",
    "scaledData = scalerModel.transform(all_num_var)"
   ]
  },
  {
   "cell_type": "markdown",
   "metadata": {},
   "source": [
    "## PCA"
   ]
  },
  {
   "cell_type": "code",
   "execution_count": 31,
   "metadata": {},
   "outputs": [],
   "source": [
    "pca = PCAml(k=2, inputCol=\"scaledFeatures\", outputCol=\"pca\")\n",
    "model = pca.fit(scaledData)\n",
    "transformed = model.transform(scaledData)"
   ]
  },
  {
   "cell_type": "code",
   "execution_count": 32,
   "metadata": {},
   "outputs": [],
   "source": [
    "pca_df = transformed.select('pca').toPandas()"
   ]
  },
  {
   "cell_type": "code",
   "execution_count": 33,
   "metadata": {},
   "outputs": [],
   "source": [
    "# Passar dimensões para vetores\n",
    "dim_a = pca_df['pca'].apply(lambda a: a[0])\n",
    "dim_b = pca_df['pca'].apply(lambda a: a[1])"
   ]
  },
  {
   "cell_type": "code",
   "execution_count": 34,
   "metadata": {},
   "outputs": [
    {
     "data": {
      "text/plain": [
       "<matplotlib.axes._subplots.AxesSubplot at 0x7f5c2c742410>"
      ]
     },
     "execution_count": 34,
     "metadata": {},
     "output_type": "execute_result"
    },
    {
     "data": {
      "image/png": "[encoded data removed]",
      "text/plain": [
       "<Figure size 432x288 with 1 Axes>"
      ]
     },
     "metadata": {
      "needs_background": "light"
     },
     "output_type": "display_data"
    }
   ],
   "source": [
    "sns.scatterplot(dim_a, dim_b, hue=df['TypeName'])"
   ]
  },
  {
   "cell_type": "markdown",
   "metadata": {},
   "source": [
    "### Outliers"
   ]
  },
  {
   "cell_type": "markdown",
   "metadata": {},
   "source": [
    "Possuem muita memória em SSD"
   ]
  },
  {
   "cell_type": "code",
   "execution_count": 35,
   "metadata": {},
   "outputs": [
    {
     "data": {
      "text/html": [
       "<div>\n",
       "<style scoped>\n",
       "    .dataframe tbody tr th:only-of-type {\n",
       "        vertical-align: middle;\n",
       "    }\n",
       "\n",
       "    .dataframe tbody tr th {\n",
       "        vertical-align: top;\n",
       "    }\n",
       "\n",
       "    .dataframe thead th {\n",
       "        text-align: right;\n",
       "    }\n",
       "</style>\n",
       "<table border=\"1\" class=\"dataframe\">\n",
       "  <thead>\n",
       "    <tr style=\"text-align: right;\">\n",
       "      <th></th>\n",
       "      <th>Company</th>\n",
       "      <th>Product</th>\n",
       "      <th>TypeName</th>\n",
       "      <th>Inches</th>\n",
       "      <th>ScreenResolution</th>\n",
       "      <th>Cpu</th>\n",
       "      <th>Ram</th>\n",
       "      <th>Memory</th>\n",
       "      <th>Gpu</th>\n",
       "      <th>OpSys</th>\n",
       "      <th>Weight</th>\n",
       "      <th>Price_euros</th>\n",
       "    </tr>\n",
       "  </thead>\n",
       "  <tbody>\n",
       "    <tr>\n",
       "      <th>200</th>\n",
       "      <td>Razer</td>\n",
       "      <td>Blade Pro</td>\n",
       "      <td>Gaming</td>\n",
       "      <td>17.3</td>\n",
       "      <td>4K Ultra HD / Touchscreen 3840x2160</td>\n",
       "      <td>Intel Core i7 7820HK 2.9GHz</td>\n",
       "      <td>32</td>\n",
       "      <td>1TB SSD</td>\n",
       "      <td>Nvidia GeForce GTX 1080</td>\n",
       "      <td>Windows 10</td>\n",
       "      <td>3.49</td>\n",
       "      <td>6099.0</td>\n",
       "    </tr>\n",
       "    <tr>\n",
       "      <th>498</th>\n",
       "      <td>Toshiba</td>\n",
       "      <td>Portege X30-D-10L</td>\n",
       "      <td>Ultrabook</td>\n",
       "      <td>13.3</td>\n",
       "      <td>Full HD / Touchscreen 1920x1080</td>\n",
       "      <td>Intel Core i7 7500U 2.7GHz</td>\n",
       "      <td>32</td>\n",
       "      <td>512GB SSD</td>\n",
       "      <td>Intel HD Graphics 620</td>\n",
       "      <td>Windows 10</td>\n",
       "      <td>1.05</td>\n",
       "      <td>2799.0</td>\n",
       "    </tr>\n",
       "    <tr>\n",
       "      <th>617</th>\n",
       "      <td>Lenovo</td>\n",
       "      <td>Thinkpad P51</td>\n",
       "      <td>Notebook</td>\n",
       "      <td>15.6</td>\n",
       "      <td>IPS Panel 4K Ultra HD 3840x2160</td>\n",
       "      <td>Intel Xeon E3-1535M v6 3.1GHz</td>\n",
       "      <td>32</td>\n",
       "      <td>1TB SSD</td>\n",
       "      <td>Nvidia Quadro M2200M</td>\n",
       "      <td>Windows 10</td>\n",
       "      <td>2.5</td>\n",
       "      <td>4899.0</td>\n",
       "    </tr>\n",
       "    <tr>\n",
       "      <th>839</th>\n",
       "      <td>Razer</td>\n",
       "      <td>Blade Pro</td>\n",
       "      <td>Gaming</td>\n",
       "      <td>17.3</td>\n",
       "      <td>4K Ultra HD / Touchscreen 3840x2160</td>\n",
       "      <td>Intel Core i7 7820HK 2.9GHz</td>\n",
       "      <td>32</td>\n",
       "      <td>512GB SSD</td>\n",
       "      <td>Nvidia GeForce GTX 1080</td>\n",
       "      <td>Windows 10</td>\n",
       "      <td>3.49</td>\n",
       "      <td>5499.0</td>\n",
       "    </tr>\n",
       "    <tr>\n",
       "      <th>1081</th>\n",
       "      <td>Asus</td>\n",
       "      <td>ROG G701VO</td>\n",
       "      <td>Gaming</td>\n",
       "      <td>17.3</td>\n",
       "      <td>IPS Panel Full HD 1920x1080</td>\n",
       "      <td>Intel Core i7 6820HK 2.7GHz</td>\n",
       "      <td>64</td>\n",
       "      <td>1TB SSD</td>\n",
       "      <td>Nvidia GeForce GTX 980</td>\n",
       "      <td>Windows 10</td>\n",
       "      <td>3.58</td>\n",
       "      <td>3975.0</td>\n",
       "    </tr>\n",
       "  </tbody>\n",
       "</table>\n",
       "</div>"
      ],
      "text/plain": [
       "      Company            Product   TypeName  Inches  \\\n",
       "200     Razer          Blade Pro     Gaming    17.3   \n",
       "498   Toshiba  Portege X30-D-10L  Ultrabook    13.3   \n",
       "617    Lenovo       Thinkpad P51   Notebook    15.6   \n",
       "839     Razer          Blade Pro     Gaming    17.3   \n",
       "1081     Asus         ROG G701VO     Gaming    17.3   \n",
       "\n",
       "                         ScreenResolution                            Cpu Ram  \\\n",
       "200   4K Ultra HD / Touchscreen 3840x2160    Intel Core i7 7820HK 2.9GHz  32   \n",
       "498       Full HD / Touchscreen 1920x1080     Intel Core i7 7500U 2.7GHz  32   \n",
       "617       IPS Panel 4K Ultra HD 3840x2160  Intel Xeon E3-1535M v6 3.1GHz  32   \n",
       "839   4K Ultra HD / Touchscreen 3840x2160    Intel Core i7 7820HK 2.9GHz  32   \n",
       "1081          IPS Panel Full HD 1920x1080    Intel Core i7 6820HK 2.7GHz  64   \n",
       "\n",
       "         Memory                      Gpu       OpSys Weight  Price_euros  \n",
       "200     1TB SSD  Nvidia GeForce GTX 1080  Windows 10   3.49       6099.0  \n",
       "498   512GB SSD    Intel HD Graphics 620  Windows 10   1.05       2799.0  \n",
       "617     1TB SSD     Nvidia Quadro M2200M  Windows 10    2.5       4899.0  \n",
       "839   512GB SSD  Nvidia GeForce GTX 1080  Windows 10   3.49       5499.0  \n",
       "1081    1TB SSD  Nvidia GeForce GTX 980   Windows 10   3.58       3975.0  "
      ]
     },
     "execution_count": 35,
     "metadata": {},
     "output_type": "execute_result"
    }
   ],
   "source": [
    "df[(dim_b < -4).values]"
   ]
  },
  {
   "cell_type": "markdown",
   "metadata": {},
   "source": [
    "## Clusterização"
   ]
  },
  {
   "cell_type": "code",
   "execution_count": 36,
   "metadata": {},
   "outputs": [
    {
     "name": "stdout",
     "output_type": "stream",
     "text": [
      "Silhouette with squared euclidean distance = 0.7320811851409378\n",
      "Cluster Centers: \n",
      "[  14.68905579    9.93991416    1.89756652 1463.98403433]\n",
      "[ 15.11316527   5.90196078   2.0279888  637.90477591]\n",
      "[1.57032520e+01 1.68780488e+01 2.63593496e+00 2.65433805e+03]\n"
     ]
    },
    {
     "data": {
      "image/png": "[encoded data removed]",
      "text/plain": [
       "<Figure size 432x288 with 1 Axes>"
      ]
     },
     "metadata": {
      "needs_background": "light"
     },
     "output_type": "display_data"
    }
   ],
   "source": [
    "# Treinar modelo\n",
    "kmeans = KMeans().setK(3).setSeed(1)\n",
    "model = kmeans.fit(all_num_var)\n",
    "\n",
    "# Fazer previsões\n",
    "predictions = model.transform(all_num_var)\n",
    "\n",
    "# Avaliar cluster\n",
    "evaluator = ClusteringEvaluator()\n",
    "\n",
    "silhouette = evaluator.evaluate(predictions)\n",
    "print(\"Silhouette with squared euclidean distance = \" + str(silhouette))\n",
    "\n",
    "# Shows the result.\n",
    "centers = model.clusterCenters()\n",
    "print(\"Cluster Centers: \")\n",
    "for center in centers:\n",
    "    print(center)\n",
    "\n",
    "cluster = predictions.select('prediction').toPandas()['prediction']\n",
    "\n",
    "sns.scatterplot(dim_a, dim_b, hue=cluster)\n",
    "plt.show()"
   ]
  },
  {
   "cell_type": "code",
   "execution_count": null,
   "metadata": {},
   "outputs": [],
   "source": []
  },
  {
   "cell_type": "code",
   "execution_count": null,
   "metadata": {},
   "outputs": [],
   "source": []
  }
 ],
 "metadata": {
  "kernelspec": {
   "display_name": "Python 3",
   "language": "python",
   "name": "python3"
  },
  "language_info": {
   "codemirror_mode": {
    "name": "ipython",
    "version": 3
   },
   "file_extension": ".py",
   "mimetype": "text/x-python",
   "name": "python",
   "nbconvert_exporter": "python",
   "pygments_lexer": "ipython3",
   "version": "3.7.6"
  }
 },
 "nbformat": 4,
 "nbformat_minor": 4
}
